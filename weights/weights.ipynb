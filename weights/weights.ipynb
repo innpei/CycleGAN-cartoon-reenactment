{
  "nbformat": 4,
  "nbformat_minor": 0,
  "metadata": {
    "colab": {
      "name": "weights.ipynb",
      "provenance": []
    },
    "kernelspec": {
      "name": "python3",
      "display_name": "Python 3"
    },
    "language_info": {
      "name": "python"
    },
    "accelerator": "GPU"
  },
  "cells": [
    {
      "cell_type": "code",
      "metadata": {
        "id": "Q61wcN7EaUZb"
      },
      "source": [
        "import torch"
      ],
      "execution_count": 2,
      "outputs": []
    },
    {
      "cell_type": "code",
      "metadata": {
        "id": "Ap-iW4vvaU8Q"
      },
      "source": [
        "cuda0 = torch.device('cuda:0')\n",
        "#Code for cycle consistency loss (in generator) JACK\n",
        "a = torch.ones((1,3,256,256), device=cuda0)\n",
        "h = a.shape[2]\n",
        "w = a.shape[3]\n",
        "for eye_h in range(int(h*7/20 ),int(h*9/20)):\n",
        "    for eye_left in range(int(w*6/20),int(w*9/20)):\n",
        "        a[0][0][eye_h][eye_left] = 9\n",
        "        a[0][1][eye_h][eye_left] = 9\n",
        "        a[0][2][eye_h][eye_left] = 9\n",
        "    for eye_right in range(int(w*11/20 ),int(w*14/20)):\n",
        "        a[0][0][eye_h][eye_right] = 9\n",
        "        a[0][1][eye_h][eye_right] = 9\n",
        "        a[0][2][eye_h][eye_right] = 9\n",
        "\n",
        "# for lip_h in range(int(h*12/20 ),int(h*14/20)): \n",
        "#     for lip_w in range(int(w*8/20 ),int(w*12/20)):\n",
        "#         a[0][0][lip_h][lip_w] = 9\n",
        "#         a[0][1][lip_h][lip_w] = 9\n",
        "#         a[0][2][lip_h][lip_w] = 9\n",
        "weights_1 = a        \n",
        "\n",
        "# Code for GAN loss (in discriminator) JACK\n",
        "b = torch.ones((1,1,256,256), device=cuda0)\n",
        "h = b.shape[2]\n",
        "w = b.shape[3]\n",
        "for eye_h in range(int(h*7/20 ),int(h*9/20)):\n",
        "    for eye_left in range(int(w*6/20),int(w*9/20)):\n",
        "        b[0][0][eye_h][eye_left] = 9\n",
        "    for eye_right in range(int(w*11/20),int(w*14/20)):\n",
        "        b[0][0][eye_h][eye_right] = 9\n",
        "        \n",
        "# for lip_h in range(int(h*12/20 ),int(h*14/20)): \n",
        "#     for lip_w in range(int(w*8/20 ),int(w*12/20)):\n",
        "#         b[0][0][lip_h][lip_w] = 9\n",
        "weights_0 = b"
      ],
      "execution_count": 3,
      "outputs": []
    },
    {
      "cell_type": "code",
      "metadata": {
        "id": "XF4cu-qUaWy5"
      },
      "source": [
        "torch.save(weights_1, 'weights_rect_1.pt')"
      ],
      "execution_count": 4,
      "outputs": []
    },
    {
      "cell_type": "code",
      "metadata": {
        "id": "tPXFOXsQaauW"
      },
      "source": [
        "torch.save(weights_0, 'weights_rect_0.pt')"
      ],
      "execution_count": 5,
      "outputs": []
    },
    {
      "cell_type": "code",
      "metadata": {
        "id": "ZzmbHRxMad4l"
      },
      "source": [
        ""
      ],
      "execution_count": null,
      "outputs": []
    }
  ]
}